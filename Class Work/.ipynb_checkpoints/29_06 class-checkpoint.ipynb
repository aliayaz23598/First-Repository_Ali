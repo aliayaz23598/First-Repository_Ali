{
 "cells": [
  {
   "cell_type": "markdown",
   "metadata": {},
   "source": [
    "# FUNCTIONS CONTINUED"
   ]
  },
  {
   "cell_type": "code",
   "execution_count": 2,
   "metadata": {},
   "outputs": [],
   "source": [
    "#PASSINNG ARBITRARY  NUMBER OF ARGUMENTS #args, *kargs"
   ]
  },
  {
   "cell_type": "code",
   "execution_count": 8,
   "metadata": {},
   "outputs": [],
   "source": [
    "def cars(model, make, *specs):\n",
    "    print(model, make)\n",
    "    print(specs)"
   ]
  },
  {
   "cell_type": "code",
   "execution_count": 9,
   "metadata": {},
   "outputs": [
    {
     "name": "stdout",
     "output_type": "stream",
     "text": [
      "2010 Toyota\n",
      "('alloyrim', 'power windows', 'power steering', 'self driving')\n"
     ]
    }
   ],
   "source": [
    "cars(2010, 'Toyota', 'alloyrim', 'power windows', 'power steering', 'self driving')"
   ]
  },
  {
   "cell_type": "code",
   "execution_count": 10,
   "metadata": {},
   "outputs": [
    {
     "name": "stdout",
     "output_type": "stream",
     "text": [
      "2010 Toyota\n",
      "('alloyrim',)\n"
     ]
    }
   ],
   "source": [
    "cars(2010, 'Toyota', 'alloyrim') # * walay items iss leay bhi tupple main atay hain taa k koi inn ki values chng naa kr skay"
   ]
  },
  {
   "cell_type": "code",
   "execution_count": 11,
   "metadata": {},
   "outputs": [
    {
     "name": "stdout",
     "output_type": "stream",
     "text": [
      "2015 Audi\n",
      "(['alloyrim', 'power windows', 'power steering', 'self driving'],)\n"
     ]
    }
   ],
   "source": [
    "cars(2015, 'Audi', ['alloyrim', 'power windows', 'power steering', 'self driving'])"
   ]
  },
  {
   "cell_type": "code",
   "execution_count": 16,
   "metadata": {},
   "outputs": [],
   "source": [
    "def pizza(name, payments, flavour, *toppings):\n",
    "    print(name, payments, flavour)\n",
    "    for toppings in toppings:\n",
    "        print(toppings)"
   ]
  },
  {
   "cell_type": "code",
   "execution_count": 17,
   "metadata": {},
   "outputs": [
    {
     "name": "stdout",
     "output_type": "stream",
     "text": [
      "Ali 1200 cheesy max\n",
      "extra cheese\n",
      "olives\n",
      "chickens\n"
     ]
    }
   ],
   "source": [
    "pizza('Ali', '1200', 'cheesy max', 'extra cheese', 'olives','chickens')"
   ]
  },
  {
   "cell_type": "code",
   "execution_count": 18,
   "metadata": {},
   "outputs": [],
   "source": [
    "def person(f_nme, l_nme, **about):#** for keyword argument\n",
    "    print(f_nme, l_nme)\n",
    "    print(about)"
   ]
  },
  {
   "cell_type": "code",
   "execution_count": 20,
   "metadata": {},
   "outputs": [
    {
     "name": "stdout",
     "output_type": "stream",
     "text": [
      "Ali Ayaz\n",
      "{'age': 22, 'address': 'karachi'}\n"
     ]
    }
   ],
   "source": [
    "person('Ali', 'Ayaz', age=22, address='karachi')"
   ]
  },
  {
   "cell_type": "code",
   "execution_count": 21,
   "metadata": {},
   "outputs": [
    {
     "name": "stdout",
     "output_type": "stream",
     "text": [
      "Ali Ayaz\n",
      "{'age': 22, 'address': 'karachi', 'no': [2048, 2059, 2060]}\n"
     ]
    }
   ],
   "source": [
    "person('Ali', 'Ayaz', age=22, address='karachi', no=[2048, 2059, 2060])"
   ]
  },
  {
   "cell_type": "code",
   "execution_count": 22,
   "metadata": {},
   "outputs": [
    {
     "name": "stdout",
     "output_type": "stream",
     "text": [
      "Ali Ayaz\n",
      "{'age': 22, 'address': 'karachi', 'no': {2048, 2059, 2060}}\n"
     ]
    }
   ],
   "source": [
    "person('Ali', 'Ayaz', age=22, address='karachi', no={2048, 2059, 2060})"
   ]
  },
  {
   "cell_type": "markdown",
   "metadata": {},
   "source": [
    "# Using Function as Variable"
   ]
  },
  {
   "cell_type": "code",
   "execution_count": 24,
   "metadata": {},
   "outputs": [],
   "source": [
    "def summ():\n",
    "    x = 3+5\n",
    "    return x"
   ]
  },
  {
   "cell_type": "code",
   "execution_count": 25,
   "metadata": {},
   "outputs": [],
   "source": [
    "def sub():\n",
    "    y = 23-6\n",
    "    return y\n",
    "    "
   ]
  },
  {
   "cell_type": "code",
   "execution_count": 26,
   "metadata": {},
   "outputs": [],
   "source": [
    "ans = summ()+sub()"
   ]
  },
  {
   "cell_type": "code",
   "execution_count": 27,
   "metadata": {},
   "outputs": [
    {
     "data": {
      "text/plain": [
       "25"
      ]
     },
     "execution_count": 27,
     "metadata": {},
     "output_type": "execute_result"
    }
   ],
   "source": [
    "ans\n"
   ]
  },
  {
   "cell_type": "code",
   "execution_count": 29,
   "metadata": {},
   "outputs": [
    {
     "ename": "NameError",
     "evalue": "name 'x' is not defined",
     "output_type": "error",
     "traceback": [
      "\u001b[1;31m---------------------------------------------------------------------------\u001b[0m",
      "\u001b[1;31mNameError\u001b[0m                                 Traceback (most recent call last)",
      "\u001b[1;32m<ipython-input-29-fc09e49f959b>\u001b[0m in \u001b[0;36m<module>\u001b[1;34m\u001b[0m\n\u001b[1;32m----> 1\u001b[1;33m \u001b[0mans\u001b[0m \u001b[1;33m=\u001b[0m \u001b[0mx\u001b[0m\u001b[1;33m+\u001b[0m\u001b[0my\u001b[0m \u001b[1;31m#x and y are defined in the function so they have no scope outside the function\u001b[0m\u001b[1;33m\u001b[0m\u001b[1;33m\u001b[0m\u001b[0m\n\u001b[0m",
      "\u001b[1;31mNameError\u001b[0m: name 'x' is not defined"
     ]
    }
   ],
   "source": [
    "ans = x+y #x and y are defined in the function so they have no scope outside the function"
   ]
  },
  {
   "cell_type": "code",
   "execution_count": 41,
   "metadata": {},
   "outputs": [],
   "source": [
    "def salary(basic,commision):\n",
    "    total = basic + commision\n",
    "    print(f\"Your Salary is: {total}\")"
   ]
  },
  {
   "cell_type": "code",
   "execution_count": 42,
   "metadata": {},
   "outputs": [],
   "source": [
    "def commision(sales):\n",
    "    if sales>=100000:\n",
    "        percent = 30\n",
    "    elif sales>=50000:\n",
    "        percent = 20\n",
    "    elif sales>=30000:\n",
    "        percent = 10\n",
    "    elif sales>=10000:\n",
    "        percent = 5\n",
    "    else:\n",
    "        percentage = 0\n",
    "    commision = sales*percent/100\n",
    "    return commision"
   ]
  },
  {
   "cell_type": "code",
   "execution_count": 43,
   "metadata": {},
   "outputs": [
    {
     "name": "stdout",
     "output_type": "stream",
     "text": [
      "Your Salary is: 35000.0\n"
     ]
    }
   ],
   "source": [
    "salary(25000, commision(50000))"
   ]
  },
  {
   "cell_type": "code",
   "execution_count": 44,
   "metadata": {},
   "outputs": [
    {
     "name": "stdout",
     "output_type": "stream",
     "text": [
      "Enter basic salary67000\n",
      "Enter sales:30000\n",
      "Your Salary is: 70000.0\n"
     ]
    }
   ],
   "source": [
    "basic = int(input(\"Enter basic salary\"))\n",
    "sales = int(input('Enter sales:'))\n",
    "\n",
    "salary(basic,commision(sales) )"
   ]
  },
  {
   "cell_type": "markdown",
   "metadata": {},
   "source": [
    "# Local and Global Variables"
   ]
  },
  {
   "cell_type": "code",
   "execution_count": 59,
   "metadata": {},
   "outputs": [
    {
     "name": "stdout",
     "output_type": "stream",
     "text": [
      "Apple\n"
     ]
    }
   ],
   "source": [
    "fruit = 'Apple' #global\n",
    "\n",
    "def alocal():\n",
    "    fruit = 'Orange'\n",
    "    a = 100 #local\n",
    "    print(fruit)\n",
    "    print(a)\n",
    "print(fruit)"
   ]
  },
  {
   "cell_type": "code",
   "execution_count": 60,
   "metadata": {},
   "outputs": [
    {
     "name": "stdout",
     "output_type": "stream",
     "text": [
      "Orange\n",
      "100\n"
     ]
    }
   ],
   "source": [
    "alocal() #if global variable is defined as local function then it will be different variable"
   ]
  },
  {
   "cell_type": "code",
   "execution_count": 61,
   "metadata": {},
   "outputs": [],
   "source": [
    "#accessing a local variable uotside the function "
   ]
  },
  {
   "cell_type": "code",
   "execution_count": 62,
   "metadata": {},
   "outputs": [
    {
     "ename": "SyntaxError",
     "evalue": "invalid syntax (<ipython-input-62-a72f20d01fa9>, line 4)",
     "output_type": "error",
     "traceback": [
      "\u001b[1;36m  File \u001b[1;32m\"<ipython-input-62-a72f20d01fa9>\"\u001b[1;36m, line \u001b[1;32m4\u001b[0m\n\u001b[1;33m    global a=100 #dclaration and assigning are done in different lines\u001b[0m\n\u001b[1;37m            ^\u001b[0m\n\u001b[1;31mSyntaxError\u001b[0m\u001b[1;31m:\u001b[0m invalid syntax\n"
     ]
    }
   ],
   "source": [
    "fruit = 'Apple' #global\n",
    "\n",
    "def alocal():\n",
    "    global a=100 #dclaration and assigning are done in different lines\n",
    "    fruit = 'Orange'\n",
    "    a = 100 #local\n",
    "    print(fruit)\n",
    "    print(a)\n",
    "print(fruit)"
   ]
  },
  {
   "cell_type": "code",
   "execution_count": 67,
   "metadata": {},
   "outputs": [
    {
     "name": "stdout",
     "output_type": "stream",
     "text": [
      "Apple\n"
     ]
    }
   ],
   "source": [
    "fruit = 'Apple' #global\n",
    "\n",
    "def alocal():\n",
    "    global a #dclaration and assigning are done in different lines\n",
    "    a = 100 #local\n",
    "    fruit = 'Orange'\n",
    "    \n",
    "    print(fruit)\n",
    "    print(a)\n",
    "print(fruit)"
   ]
  },
  {
   "cell_type": "code",
   "execution_count": 70,
   "metadata": {},
   "outputs": [
    {
     "name": "stdout",
     "output_type": "stream",
     "text": [
      "Orange\n",
      "100\n"
     ]
    }
   ],
   "source": [
    "alocal()"
   ]
  },
  {
   "cell_type": "code",
   "execution_count": 72,
   "metadata": {},
   "outputs": [
    {
     "data": {
      "text/plain": [
       "100"
      ]
     },
     "execution_count": 72,
     "metadata": {},
     "output_type": "execute_result"
    }
   ],
   "source": [
    "a #run function one time"
   ]
  },
  {
   "cell_type": "code",
   "execution_count": 73,
   "metadata": {},
   "outputs": [],
   "source": [
    "#Q: to hit global variable from the function"
   ]
  },
  {
   "cell_type": "markdown",
   "metadata": {},
   "source": [
    "# While Loop"
   ]
  },
  {
   "cell_type": "code",
   "execution_count": 74,
   "metadata": {},
   "outputs": [],
   "source": [
    " #for is iteration based loop, while loop condition based, we use while when we don't know the termination point\n",
    "    "
   ]
  },
  {
   "cell_type": "code",
   "execution_count": 1,
   "metadata": {},
   "outputs": [
    {
     "name": "stdout",
     "output_type": "stream",
     "text": [
      "Enter name or type exit to quitexit\n",
      "exit\n"
     ]
    }
   ],
   "source": [
    "flag = True\n",
    "while flag:\n",
    "    name = input('Enter name or type exit to quit')\n",
    "    print(name)\n",
    "    if name==\"exit\":\n",
    "        flag=False"
   ]
  },
  {
   "cell_type": "code",
   "execution_count": 2,
   "metadata": {},
   "outputs": [
    {
     "name": "stdout",
     "output_type": "stream",
     "text": [
      "Enter name :Ali\n",
      "Enter flavour: Cheese\n",
      "Enter topping: kl\n",
      "Enter topping: rt\n",
      "Enter topping: et\n",
      "Enter topping: df\n",
      "Enter topping: end\n",
      "Ali 2000 Cheese\n",
      "end\n"
     ]
    }
   ],
   "source": [
    "name = input(\"Enter name :\")\n",
    "flavour = input(\"Enter flavour: \")\n",
    "flag = True\n",
    "while flag:\n",
    "    toppings = input(\"Enter topping: \") #do again for list of toppings\n",
    "    if toppings==\"end\":\n",
    "        flag=False\n",
    "    \n",
    "def pizza(name, payments, flavour, *toppings):\n",
    "    print(name, payments, flavour)\n",
    "    for toppings in toppings:\n",
    "        print(toppings)\n",
    "        \n",
    "pizza(name,2000,flavour,toppings)"
   ]
  },
  {
   "cell_type": "markdown",
   "metadata": {},
   "source": [
    "# CLASSES (OOP)"
   ]
  },
  {
   "cell_type": "code",
   "execution_count": 4,
   "metadata": {},
   "outputs": [],
   "source": [
    "class Patient():\n",
    "    #Class have two things:\n",
    "    #attributes-variables(properties)\n",
    "    #behaviours-functions(Kia kia kr skta hai)\n",
    "    #special function for class is inializer(constructor)\n",
    "    def __init__(self, pid, pname, disease, age, gender): #double under score-dnder\n",
    "        self.patid = pid\n",
    "        self.patname = pname\n",
    "        self.dis = disease\n",
    "        self.age  =age\n",
    "        self.gender= gender #due to \"self\" individual copy of patient will be made \n",
    "     \n",
    "    "
   ]
  },
  {
   "cell_type": "code",
   "execution_count": 5,
   "metadata": {},
   "outputs": [],
   "source": [
    "p1 = Patient(111, \"Gabbar\", 'TB',34, 'male') #p1 is object"
   ]
  },
  {
   "cell_type": "code",
   "execution_count": 6,
   "metadata": {},
   "outputs": [],
   "source": [
    "p2 = Patient(222, 'Sambha', 'Wounded',45, 'male')"
   ]
  },
  {
   "cell_type": "code",
   "execution_count": 7,
   "metadata": {},
   "outputs": [
    {
     "data": {
      "text/plain": [
       "34"
      ]
     },
     "execution_count": 7,
     "metadata": {},
     "output_type": "execute_result"
    }
   ],
   "source": [
    "p1.age #every object has the access of all attributes of class"
   ]
  },
  {
   "cell_type": "code",
   "execution_count": 8,
   "metadata": {},
   "outputs": [
    {
     "data": {
      "text/plain": [
       "'male'"
      ]
     },
     "execution_count": 8,
     "metadata": {},
     "output_type": "execute_result"
    }
   ],
   "source": [
    "p2.gender"
   ]
  },
  {
   "cell_type": "code",
   "execution_count": 9,
   "metadata": {},
   "outputs": [
    {
     "data": {
      "text/plain": [
       "'Gabbar'"
      ]
     },
     "execution_count": 9,
     "metadata": {},
     "output_type": "execute_result"
    }
   ],
   "source": [
    "p1.patname"
   ]
  },
  {
   "cell_type": "code",
   "execution_count": 11,
   "metadata": {},
   "outputs": [],
   "source": [
    "class Stdnt():\n",
    "    def __init__(self, sname, clas, section):\n",
    "        self.name= sname\n",
    "        self.clas = clas\n",
    "        self.sec = section"
   ]
  },
  {
   "cell_type": "code",
   "execution_count": 13,
   "metadata": {},
   "outputs": [],
   "source": [
    "s1 = Stdnt('Ali', 'Third Year', 'A')"
   ]
  },
  {
   "cell_type": "code",
   "execution_count": 14,
   "metadata": {},
   "outputs": [],
   "source": [
    "s2 = Stdnt('Ahmed', 'Fourth Year','B')"
   ]
  },
  {
   "cell_type": "code",
   "execution_count": 15,
   "metadata": {},
   "outputs": [
    {
     "data": {
      "text/plain": [
       "'Ahmed'"
      ]
     },
     "execution_count": 15,
     "metadata": {},
     "output_type": "execute_result"
    }
   ],
   "source": [
    "s2.name"
   ]
  },
  {
   "cell_type": "code",
   "execution_count": 16,
   "metadata": {},
   "outputs": [
    {
     "data": {
      "text/plain": [
       "'A'"
      ]
     },
     "execution_count": 16,
     "metadata": {},
     "output_type": "execute_result"
    }
   ],
   "source": [
    "s1.sec"
   ]
  },
  {
   "cell_type": "code",
   "execution_count": 17,
   "metadata": {},
   "outputs": [
    {
     "data": {
      "text/plain": [
       "'Ali'"
      ]
     },
     "execution_count": 17,
     "metadata": {},
     "output_type": "execute_result"
    }
   ],
   "source": [
    "s1.name"
   ]
  },
  {
   "cell_type": "code",
   "execution_count": 18,
   "metadata": {},
   "outputs": [
    {
     "data": {
      "text/plain": [
       "'Ahmed'"
      ]
     },
     "execution_count": 18,
     "metadata": {},
     "output_type": "execute_result"
    }
   ],
   "source": [
    "s2.name"
   ]
  },
  {
   "cell_type": "code",
   "execution_count": null,
   "metadata": {},
   "outputs": [],
   "source": []
  }
 ],
 "metadata": {
  "kernelspec": {
   "display_name": "Python 3",
   "language": "python",
   "name": "python3"
  },
  "language_info": {
   "codemirror_mode": {
    "name": "ipython",
    "version": 3
   },
   "file_extension": ".py",
   "mimetype": "text/x-python",
   "name": "python",
   "nbconvert_exporter": "python",
   "pygments_lexer": "ipython3",
   "version": "3.7.3"
  }
 },
 "nbformat": 4,
 "nbformat_minor": 2
}
