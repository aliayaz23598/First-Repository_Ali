{
 "cells": [
  {
   "cell_type": "code",
   "execution_count": 11,
   "metadata": {},
   "outputs": [],
   "source": [
    "class Car():\n",
    "    def __init__(self, make, model, year):             #positional parameter\n",
    "        self.make = make\n",
    "        self.model = model\n",
    "        self.year = year\n",
    "        self.odometer = 0\n",
    "        \n",
    "    def read_odo(self):\n",
    "        current_odo = self.odometer()\n",
    "        return current_odo\n",
    "        \n",
    "    def get_descriptive_names(self):\n",
    "        long_name = str(self.year)+\" \"+self.make+\" \"+self.model\n",
    "        return long_name.title()\n",
    "    \n",
    "    \n"
   ]
  },
  {
   "cell_type": "code",
   "execution_count": 12,
   "metadata": {},
   "outputs": [],
   "source": [
    "my_new_car = Car(\"audi\", \"a4\", 2016) #object creation"
   ]
  },
  {
   "cell_type": "code",
   "execution_count": 13,
   "metadata": {},
   "outputs": [
    {
     "name": "stdout",
     "output_type": "stream",
     "text": [
      "2016 Audi A4\n"
     ]
    }
   ],
   "source": [
    "print(my_new_car.get_descriptive_names())"
   ]
  },
  {
   "cell_type": "markdown",
   "metadata": {},
   "source": [
    "# Changing default attributes value"
   ]
  },
  {
   "cell_type": "markdown",
   "metadata": {},
   "source": [
    "1)Changing the value directly "
   ]
  },
  {
   "cell_type": "code",
   "execution_count": 19,
   "metadata": {},
   "outputs": [],
   "source": [
    "my_new_car.odometer=50"
   ]
  },
  {
   "cell_type": "code",
   "execution_count": 20,
   "metadata": {},
   "outputs": [
    {
     "name": "stdout",
     "output_type": "stream",
     "text": [
      "50\n"
     ]
    }
   ],
   "source": [
    "print(my_new_car.odometer)"
   ]
  },
  {
   "cell_type": "markdown",
   "metadata": {},
   "source": [
    "2)Changing the value in function"
   ]
  },
  {
   "cell_type": "code",
   "execution_count": 35,
   "metadata": {},
   "outputs": [],
   "source": [
    "class Car():\n",
    "    def __init__(self, make, model, year):             #positional parameter\n",
    "        self.make = make\n",
    "        self.model = model\n",
    "        self.year = year\n",
    "        self.odometer = 0\n",
    "        \n",
    "        \n",
    "    def read_odo(self):\n",
    "        current_odo = self.odometer()            \n",
    "        return current_odo\n",
    "        \n",
    "    def get_descriptive_names(self):\n",
    "        long_name = str(self.year)+\" \"+self.make+\" \"+self.model\n",
    "        return long_name.title()\n",
    "    \n",
    "    def updt_odo(self,milage):\n",
    "        self.odometer = milage      #never expose variables or headers, it makes code vulernable to attacks(getters and setters)\n",
    "    \n",
    "    "
   ]
  },
  {
   "cell_type": "code",
   "execution_count": 36,
   "metadata": {},
   "outputs": [],
   "source": [
    "# my_new_car.updt_odo = 500  #this puts value in function not in variable"
   ]
  },
  {
   "cell_type": "code",
   "execution_count": 38,
   "metadata": {},
   "outputs": [],
   "source": [
    "my_new_car = Car(2016 , \"Suzuki\" , \"liana\") #object definition is mandatory"
   ]
  },
  {
   "cell_type": "code",
   "execution_count": 40,
   "metadata": {},
   "outputs": [],
   "source": [
    "my_new_car.updt_odo(45)"
   ]
  },
  {
   "cell_type": "code",
   "execution_count": 41,
   "metadata": {},
   "outputs": [],
   "source": [
    "my_new_car.odometer  = 500"
   ]
  },
  {
   "cell_type": "code",
   "execution_count": 44,
   "metadata": {},
   "outputs": [],
   "source": [
    "my_new_car.updt_odo(500)"
   ]
  },
  {
   "cell_type": "code",
   "execution_count": 45,
   "metadata": {},
   "outputs": [
    {
     "ename": "TypeError",
     "evalue": "updt_odo() missing 1 required positional argument: 'milage'",
     "output_type": "error",
     "traceback": [
      "\u001b[1;31m---------------------------------------------------------------------------\u001b[0m",
      "\u001b[1;31mTypeError\u001b[0m                                 Traceback (most recent call last)",
      "\u001b[1;32m<ipython-input-45-c9e9afde2f68>\u001b[0m in \u001b[0;36m<module>\u001b[1;34m\u001b[0m\n\u001b[1;32m----> 1\u001b[1;33m \u001b[0mprint\u001b[0m\u001b[1;33m(\u001b[0m\u001b[0mmy_new_car\u001b[0m\u001b[1;33m.\u001b[0m\u001b[0mupdt_odo\u001b[0m\u001b[1;33m(\u001b[0m\u001b[1;33m)\u001b[0m\u001b[1;33m)\u001b[0m\u001b[1;33m\u001b[0m\u001b[1;33m\u001b[0m\u001b[0m\n\u001b[0m",
      "\u001b[1;31mTypeError\u001b[0m: updt_odo() missing 1 required positional argument: 'milage'"
     ]
    }
   ],
   "source": [
    "print(my_new_car.updt_odo())"
   ]
  },
  {
   "cell_type": "code",
   "execution_count": 66,
   "metadata": {},
   "outputs": [],
   "source": [
    "class restarants():\n",
    "    def __init__(self,restaurants, cuisine):\n",
    "        self.restaurants = restaurants\n",
    "        self.cuisine = cuisine\n",
    "    \n",
    "    def des_res(self):\n",
    "        print(self.restaurants)\n",
    "        print(self.cuisine)\n",
    "    \n",
    "    def opn_res(self):\n",
    "        print(\"Restauurant is open\")\n",
    "    \n",
    "    \n",
    "    "
   ]
  },
  {
   "cell_type": "code",
   "execution_count": 71,
   "metadata": {},
   "outputs": [],
   "source": [
    "restaurants = restarants(\"dha\" , \"chinese\")"
   ]
  },
  {
   "cell_type": "code",
   "execution_count": 72,
   "metadata": {},
   "outputs": [
    {
     "name": "stdout",
     "output_type": "stream",
     "text": [
      "dha\n",
      "chinese\n"
     ]
    }
   ],
   "source": [
    "print(restaurants. restaurants)\n",
    "print(restaurants.cuisine)"
   ]
  },
  {
   "cell_type": "code",
   "execution_count": 73,
   "metadata": {},
   "outputs": [
    {
     "name": "stdout",
     "output_type": "stream",
     "text": [
      "dha\n",
      "chinese\n"
     ]
    }
   ],
   "source": [
    "restaurants.des_res()"
   ]
  },
  {
   "cell_type": "code",
   "execution_count": 74,
   "metadata": {},
   "outputs": [
    {
     "name": "stdout",
     "output_type": "stream",
     "text": [
      "Restauurant is open\n"
     ]
    }
   ],
   "source": [
    "restaurants.opn_res()"
   ]
  },
  {
   "cell_type": "code",
   "execution_count": 77,
   "metadata": {},
   "outputs": [],
   "source": [
    "class restarants():\n",
    "    def __init__(self,restaurants, cuisine):\n",
    "        self.restaurants = restaurants\n",
    "        self.cuisine = cuisine\n",
    "        self.numberserved = 0\n",
    "    \n",
    "    def des_res(self):\n",
    "        print(self.restaurants)\n",
    "        print(self.cuisine)\n",
    "    \n",
    "    def opn_res(self):\n",
    "        print(\"Restauurant is open\")\n",
    "        "
   ]
  },
  {
   "cell_type": "code",
   "execution_count": 78,
   "metadata": {},
   "outputs": [],
   "source": [
    "restaurants = restarants(\"abc\",\"indian\")"
   ]
  },
  {
   "cell_type": "code",
   "execution_count": 81,
   "metadata": {},
   "outputs": [
    {
     "data": {
      "text/plain": [
       "0"
      ]
     },
     "execution_count": 81,
     "metadata": {},
     "output_type": "execute_result"
    }
   ],
   "source": [
    "restaurants.numberserved"
   ]
  },
  {
   "cell_type": "code",
   "execution_count": 82,
   "metadata": {},
   "outputs": [],
   "source": [
    "restaurants.numberserved = 100 #direct hit"
   ]
  },
  {
   "cell_type": "code",
   "execution_count": 83,
   "metadata": {},
   "outputs": [
    {
     "data": {
      "text/plain": [
       "100"
      ]
     },
     "execution_count": 83,
     "metadata": {},
     "output_type": "execute_result"
    }
   ],
   "source": [
    "restaurants.numberserved"
   ]
  },
  {
   "cell_type": "code",
   "execution_count": 96,
   "metadata": {},
   "outputs": [],
   "source": [
    "class restarants():\n",
    "    def __init__(self,restaurants, cuisine):\n",
    "        self.restaurants = restaurants\n",
    "        self.cuisine = cuisine\n",
    "        self.numberserved = 0\n",
    "    \n",
    "    def des_res(self):\n",
    "        print(self.restaurants)\n",
    "        print(self.cuisine)\n",
    "    \n",
    "    def opn_res(self):\n",
    "        print(\"Restauurant is open\")\n",
    "        \n",
    "    def set_number_served(self , numbers): #setter\n",
    "        self.numberserved = numbers\n",
    "    \n",
    "    def customer_served(self): #getter\n",
    "        print(f\"Total customer served today are {self.numberserved}\")"
   ]
  },
  {
   "cell_type": "code",
   "execution_count": 97,
   "metadata": {},
   "outputs": [],
   "source": [
    "restaurants = restarants(\"abc\",\"indian\")"
   ]
  },
  {
   "cell_type": "code",
   "execution_count": 98,
   "metadata": {},
   "outputs": [],
   "source": [
    "restaurants.set_number_served(500)"
   ]
  },
  {
   "cell_type": "code",
   "execution_count": 99,
   "metadata": {},
   "outputs": [
    {
     "name": "stdout",
     "output_type": "stream",
     "text": [
      "Total customer served today are 500\n"
     ]
    }
   ],
   "source": [
    "restaurants.customer_served()"
   ]
  },
  {
   "cell_type": "code",
   "execution_count": 118,
   "metadata": {},
   "outputs": [],
   "source": [
    "class restarants():\n",
    "    def __init__(self,restaurants, cuisine): #variables in () are local, limited to class can't be called in other functions\n",
    "        self.restaurants = restaurants      #self is used to make copies of it and to use in other places\n",
    "        self.cuisine = cuisine\n",
    "        self.numberserved = 0\n",
    "    \n",
    "    def des_res(self):\n",
    "        print(self.restaurants)\n",
    "        print(self.cuisine)\n",
    "    \n",
    "    def opn_res(self):\n",
    "        print(\"Restaurant is open\")\n",
    "        \n",
    "    def set_number_served(self , numbers): #setter\n",
    "        self.numberserved = numbers\n",
    "    \n",
    "    def customer_served(self): #getter\n",
    "        print(f\"Total customer served today are {self.numberserved}\")\n",
    "        \n",
    "    def increment_number_served(self,numbers):\n",
    "        self.numberserved += numbers"
   ]
  },
  {
   "cell_type": "code",
   "execution_count": 119,
   "metadata": {},
   "outputs": [],
   "source": [
    "res = restarants(\"abc\", \"xyz\") #iss object ki madad say hm tmama objects aur fnctions get kr sktay hain"
   ]
  },
  {
   "cell_type": "code",
   "execution_count": 120,
   "metadata": {},
   "outputs": [],
   "source": [
    "res.increment_number_served(90)"
   ]
  },
  {
   "cell_type": "code",
   "execution_count": 121,
   "metadata": {},
   "outputs": [
    {
     "name": "stdout",
     "output_type": "stream",
     "text": [
      "Total customer served today are 90\n"
     ]
    }
   ],
   "source": [
    "res.customer_served() #990 hi ata rhay ga kun k alag cells main hain setter or getter"
   ]
  },
  {
   "cell_type": "code",
   "execution_count": 122,
   "metadata": {},
   "outputs": [
    {
     "name": "stdout",
     "output_type": "stream",
     "text": [
      "Total customer served today are 180\n"
     ]
    }
   ],
   "source": [
    "res.increment_number_served(90)\n",
    "res.customer_served()"
   ]
  },
  {
   "cell_type": "code",
   "execution_count": 123,
   "metadata": {},
   "outputs": [
    {
     "name": "stdout",
     "output_type": "stream",
     "text": [
      "Restaurant is open\n"
     ]
    }
   ],
   "source": [
    "res.opn_res()\n"
   ]
  },
  {
   "cell_type": "code",
   "execution_count": 124,
   "metadata": {},
   "outputs": [
    {
     "data": {
      "text/plain": [
       "180"
      ]
     },
     "execution_count": 124,
     "metadata": {},
     "output_type": "execute_result"
    }
   ],
   "source": [
    "res.numberserved"
   ]
  },
  {
   "cell_type": "code",
   "execution_count": 125,
   "metadata": {},
   "outputs": [
    {
     "data": {
      "text/plain": [
       "'xyz'"
      ]
     },
     "execution_count": 125,
     "metadata": {},
     "output_type": "execute_result"
    }
   ],
   "source": [
    "res.cuisine"
   ]
  },
  {
   "cell_type": "code",
   "execution_count": 126,
   "metadata": {},
   "outputs": [
    {
     "name": "stdout",
     "output_type": "stream",
     "text": [
      "Total customer served today are 180\n"
     ]
    }
   ],
   "source": [
    "res.customer_served()"
   ]
  },
  {
   "cell_type": "code",
   "execution_count": 127,
   "metadata": {},
   "outputs": [
    {
     "name": "stdout",
     "output_type": "stream",
     "text": [
      "abc\n",
      "xyz\n"
     ]
    }
   ],
   "source": [
    "res.des_res()"
   ]
  },
  {
   "cell_type": "markdown",
   "metadata": {},
   "source": [
    "9.3 and 9.5 are similar or continued parts, dibys"
   ]
  },
  {
   "cell_type": "markdown",
   "metadata": {},
   "source": [
    "# Inheritance"
   ]
  },
  {
   "cell_type": "markdown",
   "metadata": {},
   "source": [
    "Basic functionality of inheritance is code resuse."
   ]
  },
  {
   "cell_type": "markdown",
   "metadata": {},
   "source": [
    "To use previous class for new is inheritance, to use previous class for new wih modification a bit is overrite."
   ]
  },
  {
   "cell_type": "code",
   "execution_count": 128,
   "metadata": {},
   "outputs": [],
   "source": [
    "class Car():\n",
    "    def __init__(self, make, model, year):             #positional parameter\n",
    "        self.make = make\n",
    "        self.model = model\n",
    "        self.year = year\n",
    "        self.odometer = 0\n",
    "        \n",
    "    def read_odo(self):\n",
    "        current_odo = self.odometer()\n",
    "        return current_odo\n",
    "        \n",
    "    def get_descriptive_names(self):\n",
    "        long_name = str(self.year)+\" \"+self.make+\" \"+self.model\n",
    "        return long_name.title()"
   ]
  },
  {
   "cell_type": "code",
   "execution_count": 129,
   "metadata": {},
   "outputs": [],
   "source": [
    "class Electriccar(Car):\n",
    "    pass"
   ]
  },
  {
   "cell_type": "code",
   "execution_count": 131,
   "metadata": {},
   "outputs": [],
   "source": [
    "eCar = Electriccar(\"BMW\",\"next100\",2019) #Electriccar is empty class so it has every attribute of parent class i.e Car"
   ]
  },
  {
   "cell_type": "code",
   "execution_count": null,
   "metadata": {},
   "outputs": [],
   "source": [
    "eCar."
   ]
  }
 ],
 "metadata": {
  "kernelspec": {
   "display_name": "Python 3",
   "language": "python",
   "name": "python3"
  },
  "language_info": {
   "codemirror_mode": {
    "name": "ipython",
    "version": 3
   },
   "file_extension": ".py",
   "mimetype": "text/x-python",
   "name": "python",
   "nbconvert_exporter": "python",
   "pygments_lexer": "ipython3",
   "version": "3.7.3"
  }
 },
 "nbformat": 4,
 "nbformat_minor": 2
}
