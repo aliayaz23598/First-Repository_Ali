{
 "cells": [
  {
   "cell_type": "code",
   "execution_count": 1,
   "metadata": {},
   "outputs": [
    {
     "name": "stdout",
     "output_type": "stream",
     "text": [
      "Ali\n"
     ]
    }
   ],
   "source": [
    "print(\"Ali\")"
   ]
  },
  {
   "cell_type": "code",
   "execution_count": 2,
   "metadata": {},
   "outputs": [
    {
     "name": "stdout",
     "output_type": "stream",
     "text": [
      "12^^23^^ALi\n"
     ]
    }
   ],
   "source": [
    "print(12,23,\"ALi\", sep=\"^^\")"
   ]
  },
  {
   "cell_type": "code",
   "execution_count": 9,
   "metadata": {},
   "outputs": [
    {
     "name": "stdout",
     "output_type": "stream",
     "text": [
      "My name is Ali; My age is 23\n"
     ]
    }
   ],
   "source": [
    "name= \"Ali\"\n",
    "age= 23\n",
    "\n",
    "print(\"My name is \" +name+ \"; My age is \"+str(age))"
   ]
  },
  {
   "cell_type": "code",
   "execution_count": 10,
   "metadata": {},
   "outputs": [
    {
     "name": "stdout",
     "output_type": "stream",
     "text": [
      "My name is  Ali ; My age is  23\n"
     ]
    }
   ],
   "source": [
    "print(\"My name is \",name, \"; My age is \",age)"
   ]
  },
  {
   "cell_type": "code",
   "execution_count": 14,
   "metadata": {},
   "outputs": [
    {
     "name": "stdout",
     "output_type": "stream",
     "text": [
      "Enter ur age2\n",
      "Enter ur name2\n",
      "Your name is  2  \n",
      "Your age is 2\n"
     ]
    }
   ],
   "source": [
    "age= int(input(\"Enter ur age\"))\n",
    "name= input(\"Enter ur name\")\n",
    "\n",
    "print(\"Your name is \",name,\" \\nYour age is\",age)"
   ]
  },
  {
   "cell_type": "code",
   "execution_count": 15,
   "metadata": {},
   "outputs": [
    {
     "data": {
      "text/plain": [
       "int"
      ]
     },
     "execution_count": 15,
     "metadata": {},
     "output_type": "execute_result"
    }
   ],
   "source": [
    "type(age)"
   ]
  },
  {
   "cell_type": "code",
   "execution_count": 1,
   "metadata": {},
   "outputs": [
    {
     "name": "stdout",
     "output_type": "stream",
     "text": [
      "Enter ur age23\n",
      "Enter ur nameali\n",
      "Your name is ali \n",
      "Your age is age 23\n"
     ]
    }
   ],
   "source": [
    "age= input(\"Enter ur age\")\n",
    "name= input(\"Enter ur name\")\n",
    "print(\"Your name is {} \\nYour age is age {}\".format(name,age))"
   ]
  },
  {
   "cell_type": "code",
   "execution_count": 2,
   "metadata": {},
   "outputs": [
    {
     "data": {
      "text/plain": [
       "str"
      ]
     },
     "execution_count": 2,
     "metadata": {},
     "output_type": "execute_result"
    }
   ],
   "source": [
    "type(age)"
   ]
  },
  {
   "cell_type": "code",
   "execution_count": 20,
   "metadata": {},
   "outputs": [
    {
     "name": "stdout",
     "output_type": "stream",
     "text": [
      "Your name is 6 \n",
      "Your age is age 3\n"
     ]
    }
   ],
   "source": [
    "print(f\"Your name is {name} \\nYour age is age {age}\")"
   ]
  },
  {
   "cell_type": "code",
   "execution_count": 5,
   "metadata": {},
   "outputs": [
    {
     "data": {
      "text/plain": [
       "1.5"
      ]
     },
     "execution_count": 5,
     "metadata": {},
     "output_type": "execute_result"
    }
   ],
   "source": [
    "3//2"
   ]
  },
  {
   "cell_type": "code",
   "execution_count": 22,
   "metadata": {},
   "outputs": [
    {
     "data": {
      "text/plain": [
       "8"
      ]
     },
     "execution_count": 22,
     "metadata": {},
     "output_type": "execute_result"
    }
   ],
   "source": [
    " 2**3"
   ]
  },
  {
   "cell_type": "code",
   "execution_count": 2,
   "metadata": {},
   "outputs": [
    {
     "name": "stdout",
     "output_type": "stream",
     "text": [
      "False\n"
     ]
    }
   ],
   "source": [
    "if 1>2:\n",
    "    print(\"True\")\n",
    "else:\n",
    "    print(\"False\")"
   ]
  },
  {
   "cell_type": "code",
   "execution_count": 32,
   "metadata": {},
   "outputs": [
    {
     "name": "stdout",
     "output_type": "stream",
     "text": [
      "Enter any number2\n",
      "Enter second nuumber2\n",
      "2  is even\n",
      "Enter number please!\n"
     ]
    }
   ],
   "source": [
    "num1= int(input(\"Enter any number\"))\n",
    "num2= int(input(\"Enter second nuumber\"))\n",
    "\n",
    "if num1%2==0:\n",
    "    print(num1,\" is even\")\n",
    "if  num2%2!=0:\n",
    "    print(num2,\" is odd\")"
   ]
  },
  {
   "cell_type": "code",
   "execution_count": 40,
   "metadata": {},
   "outputs": [
    {
     "name": "stdout",
     "output_type": "stream",
     "text": [
      "Have CNIC card yes or no?yes\n",
      "CNIC ok\n",
      "Voter list existence yes or no?yes\n",
      "Please cast your vote\n"
     ]
    }
   ],
   "source": [
    "card = input(\"Have CNIC card yes or no?\")\n",
    "\n",
    "if card == \"yes\":\n",
    "    print(\"CNIC ok\")\n",
    "    voter = input(\"Voter list existence yes or no?\")\n",
    "    if voter == \"yes\":\n",
    "        print(\"Please cast your vote\")\n",
    "    else:\n",
    "        print(\"You can't do it\")\n",
    "else:\n",
    "    print(\"You can't do it\")\n",
    "       \n",
    "    "
   ]
  },
  {
   "cell_type": "code",
   "execution_count": null,
   "metadata": {},
   "outputs": [],
   "source": []
  }
 ],
 "metadata": {
  "kernelspec": {
   "display_name": "Python 3",
   "language": "python",
   "name": "python3"
  },
  "language_info": {
   "codemirror_mode": {
    "name": "ipython",
    "version": 3
   },
   "file_extension": ".py",
   "mimetype": "text/x-python",
   "name": "python",
   "nbconvert_exporter": "python",
   "pygments_lexer": "ipython3",
   "version": "3.7.3"
  }
 },
 "nbformat": 4,
 "nbformat_minor": 2
}
